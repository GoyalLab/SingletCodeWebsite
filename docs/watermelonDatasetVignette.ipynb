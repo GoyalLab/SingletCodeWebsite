{
 "cells": [
  {
   "cell_type": "markdown",
   "metadata": {},
   "source": [
    "# Notebook to use singletCode Command Line tool to analyse single-cell data with watermelon barcodes\n",
    "The barcode region is assumed to be amplified using Illumina MiSeq."
   ]
  },
  {
   "cell_type": "markdown",
   "metadata": {},
   "source": [
    "All the data for this vignette and the files output from it can be downloaded from [here](../source/dataVignette/watermelonVignetteData.zip). It contains inputFiles and the outputFiles."
   ]
  },
  {
   "cell_type": "markdown",
   "metadata": {},
   "source": [
    "### First step is to understand the samples present in the FASTQ files.\n",
    "The sample fastq files are in the inputFolder. We can identify the sample name and number from the FASTQ file. For example, sampleName_S1_L001_R1_001.fastq.gz means that the sample name is sampleName and sample number is 1.Make sure that both read 1 and read 2 for each sample are present in the same folder (R1 and R2) "
   ]
  },
  {
   "cell_type": "markdown",
   "metadata": {},
   "source": [
    "### Creating sample sheet for these two samples."
   ]
  },
  {
   "cell_type": "code",
   "execution_count": 2,
   "metadata": {},
   "outputs": [],
   "source": [
    "import pandas as pd"
   ]
  },
  {
   "cell_type": "code",
   "execution_count": 5,
   "metadata": {},
   "outputs": [],
   "source": [
    "Path = \"path/to/where/the/repo/was/cloned\"\n",
    "p = \"path/to/zipped/folder\""
   ]
  },
  {
   "cell_type": "code",
   "execution_count": 6,
   "metadata": {},
   "outputs": [
    {
     "data": {
      "text/html": [
       "<div>\n",
       "<style scoped>\n",
       "    .dataframe tbody tr th:only-of-type {\n",
       "        vertical-align: middle;\n",
       "    }\n",
       "\n",
       "    .dataframe tbody tr th {\n",
       "        vertical-align: top;\n",
       "    }\n",
       "\n",
       "    .dataframe thead th {\n",
       "        text-align: right;\n",
       "    }\n",
       "</style>\n",
       "<table border=\"1\" class=\"dataframe\">\n",
       "  <thead>\n",
       "    <tr style=\"text-align: right;\">\n",
       "      <th></th>\n",
       "      <th>sampleName</th>\n",
       "      <th>sampleNumber</th>\n",
       "    </tr>\n",
       "  </thead>\n",
       "  <tbody>\n",
       "    <tr>\n",
       "      <th>0</th>\n",
       "      <td>sampleName</td>\n",
       "      <td>1</td>\n",
       "    </tr>\n",
       "    <tr>\n",
       "      <th>1</th>\n",
       "      <td>otherSampleName</td>\n",
       "      <td>2</td>\n",
       "    </tr>\n",
       "  </tbody>\n",
       "</table>\n",
       "</div>"
      ],
      "text/plain": [
       "        sampleName  sampleNumber\n",
       "0       sampleName             1\n",
       "1  otherSampleName             2"
      ]
     },
     "execution_count": 6,
     "metadata": {},
     "output_type": "execute_result"
    }
   ],
   "source": [
    "sampleSheet = pd.read_csv(f\"{p}/inputFiles/sampleSheet.csv\")\n",
    "sampleSheet"
   ]
  },
  {
   "cell_type": "markdown",
   "metadata": {},
   "source": [
    "### Installing singletCode Command line tool\n",
    "To use the singletCode command line tool, clone the repository from GitHub. Let the path to the folder you are running this command be **Path**"
   ]
  },
  {
   "cell_type": "code",
   "execution_count": null,
   "metadata": {},
   "outputs": [],
   "source": [
    "!git clone https://github.com/GoyalLab/singletCodeTools"
   ]
  },
  {
   "cell_type": "markdown",
   "metadata": {},
   "source": [
    "Now, to run the watermelon module of singletCodeTools, you need to run this command. If we are going by the folder structure of the zipped file and **p** is *path to the unzipped folder containing example files*, then\n",
    "1. **inputFolder** will be p/inputFiles/\n",
    "2. **outputFolder** will be p/outputFiles/\n",
    "3. **sampleSheet** will be p/inputFiles/sampleSheet.csv"
   ]
  },
  {
   "cell_type": "code",
   "execution_count": null,
   "metadata": {},
   "outputs": [],
   "source": [
    "import subprocess\n",
    "\n",
    "command = [\n",
    "    'python',\n",
    "    f'{Path}/commandLine/singletCodeCommandLine.py',\n",
    "    'watermelon',\n",
    "    '-i',  f'{p}/inputFiles',\n",
    "    '-o',  f'{p}/outputFiles',\n",
    "    '-s', f'{p}/inputFiles/sampleSheet.csv',\n",
    "    '--outputName', 'watermelonBarcodeUmi.csv'\n",
    "]\n",
    "\n",
    "result = subprocess.run(command)\n"
   ]
  },
  {
   "cell_type": "markdown",
   "metadata": {},
   "source": [
    "**NOTE** \n",
    "\n",
    "In the current FASTQ file, the pattern for the watermelon barcode is GGGCTG(([AT][CG]|[CG][AT]){15})GACGCT. \n",
    " \n",
    "If this is not true for the barcodes in your data, then you can go to *processSampleBarcode* function in *Path/commandLine/watermelonUtilityFunctions.py* and change the line starting with **pattern =**."
   ]
  },
  {
   "cell_type": "markdown",
   "metadata": {},
   "source": [
    "### Using 10X list of cell IDs to check that all the cell IDs were also captured in scRNAseq"
   ]
  },
  {
   "cell_type": "markdown",
   "metadata": {},
   "source": [
    "If you want to use a 10X single-cell RNA sequencing of the same set of cells to check which barcoded cells are of interest to you, then you can add --use10X flag to your command and provide the path to the list of cell IDs. "
   ]
  },
  {
   "cell_type": "code",
   "execution_count": null,
   "metadata": {},
   "outputs": [],
   "source": [
    "result = subprocess.run([\n",
    "    'python',\n",
    "    f'{Path}/commandLine/singletCodeCommandLine.py',\n",
    "    'watermelon',\n",
    "    '-i', f'{p}/inputFiles/',\n",
    "    '-o', f'{p}/outputFiles/',\n",
    "    '-s', f'{p}/inputFiles/sampleSheet.csv',\n",
    "    '--outputName', 'watermelonBarcodeUmiWith10X.csv',\n",
    "    '--use10X', \"True\",\n",
    "    '--input10X', 'barcodes.tsv'\n",
    "], capture_output=True, text=True)\n",
    "\n",
    "# Check if the command was successful\n",
    "if result.returncode == 0:\n",
    "    print(\"Command executed successfully\")\n",
    "    print(\"Output:\\n\", result.stdout)\n",
    "else:\n",
    "    print(\"Command failed\")\n",
    "    print(\"Error:\\n\", result.stderr)"
   ]
  },
  {
   "cell_type": "markdown",
   "metadata": {},
   "source": [
    "### Run singletCode to identify true singlets using the cellID-Barcode-UMI file just created"
   ]
  },
  {
   "cell_type": "markdown",
   "metadata": {},
   "source": [
    "Using the count module available in the command line"
   ]
  },
  {
   "cell_type": "code",
   "execution_count": null,
   "metadata": {},
   "outputs": [],
   "source": [
    "import subprocess\n",
    "\n",
    "result = subprocess.run([\n",
    "    'python',\n",
    "    f'{Path}/commandLine/singletCodeCommandLine.py',\n",
    "    'count',\n",
    "    '-i', f'{p}/outputFiles/watermelonBarcodeUmi.csv',\n",
    "    '-o', f'{p}/outputFiles/watermelon'\n",
    "], capture_output=True, text=True)\n",
    "\n",
    "# Check if the command was successful\n",
    "if result.returncode == 0:\n",
    "    print(\"Command executed successfully\")\n",
    "    print(\"Output:\\n\", result.stdout)\n",
    "else:\n",
    "    print(\"Command failed\")\n",
    "    print(\"Error:\\n\", result.stderr)"
   ]
  },
  {
   "cell_type": "markdown",
   "metadata": {},
   "source": [
    "There different files which are output from this command:\n",
    "1. different kinds of singlets in each of the samples: single_barcode, dominant_umi, multi_barcode\n",
    "2. a combined list of all singlets for a sample: singlets_all\n",
    "3. a csv file containing the statistics of each kind of singlet, number of potential multiplets and cells filtered out due to low UMI counts of barcodes \n",
    "4. the list of potential multiplets for each of the samples: multiplets\n",
    "\n",
    "For more explanation on different kinds of singlets seen in the output files, you can refer [here](https://goyallab.github.io/SingletCodeWebsite/singletCode/) and for example of data showing this, you can refer to the vignette about singletCode package."
   ]
  }
 ],
 "metadata": {
  "kernelspec": {
   "display_name": "singletCodePackage",
   "language": "python",
   "name": "python3"
  },
  "language_info": {
   "codemirror_mode": {
    "name": "ipython",
    "version": 3
   },
   "file_extension": ".py",
   "mimetype": "text/x-python",
   "name": "python",
   "nbconvert_exporter": "python",
   "pygments_lexer": "ipython3",
   "version": "3.9.19"
  }
 },
 "nbformat": 4,
 "nbformat_minor": 2
}
